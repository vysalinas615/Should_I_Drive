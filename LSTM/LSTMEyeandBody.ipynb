{
  "cells": [
    {
      "cell_type": "code",
      "source": [
        "from google.colab import drive\n",
        "drive.mount('/content/drive/')"
      ],
      "metadata": {
        "colab": {
          "base_uri": "https://localhost:8080/"
        },
        "id": "srPvL58L_QMG",
        "outputId": "a91f9506-ee6d-4f79-fdc2-0d754f8baabd"
      },
      "id": "srPvL58L_QMG",
      "execution_count": 11,
      "outputs": [
        {
          "output_type": "stream",
          "name": "stdout",
          "text": [
            "Drive already mounted at /content/drive/; to attempt to forcibly remount, call drive.mount(\"/content/drive/\", force_remount=True).\n"
          ]
        }
      ]
    },
    {
      "cell_type": "code",
      "source": [
        "!ls /content/drive/MyDrive/allDatanew.csv"
      ],
      "metadata": {
        "colab": {
          "base_uri": "https://localhost:8080/"
        },
        "id": "Om8S9GkgAYFv",
        "outputId": "0e5406bc-626c-471d-929f-ffec146f214d"
      },
      "id": "Om8S9GkgAYFv",
      "execution_count": 12,
      "outputs": [
        {
          "output_type": "stream",
          "name": "stdout",
          "text": [
            "/content/drive/MyDrive/allDatanew.csv\n"
          ]
        }
      ]
    },
    {
      "cell_type": "markdown",
      "source": [
        "Load necessary imports"
      ],
      "metadata": {
        "id": "SwDz8iZY7bnl"
      },
      "id": "SwDz8iZY7bnl"
    },
    {
      "cell_type": "code",
      "source": [
        "import torch\n",
        "import torch.nn as nn\n",
        "import torch.nn.functional as F\n",
        "from torch.utils.data import TensorDataset, Dataset, DataLoader\n",
        "\n",
        "from torch.utils.data import Subset\n",
        "import torchvision\n",
        "from torchvision import datasets, models, transforms, utils\n",
        "from torch.autograd import Variable\n",
        "import torch.optim as optim\n",
        "from torch.optim import lr_scheduler\n",
        "import torch.backends.cudnn as cudnn\n",
        "\n",
        "\n",
        "cuda_enabled = torch.cuda.is_available()\n",
        "# # Device configuration\n",
        "device = torch.device('cuda' if torch.cuda.is_available() else 'cpu')\n",
        "\n",
        "# CUDA_VISIBLE_DEVICES=0,1,2,3\n",
        "cudnn.benchmark = True\n",
        "\n",
        "from skimage import io, transform\n",
        "import matplotlib.pyplot as plt\n",
        "\n",
        "import os\n",
        "import pandas as pd\n",
        "import numpy as np\n",
        "import glob\n",
        "from __future__ import print_function, division\n",
        "import datetime\n",
        "import sys\n",
        "from sklearn.metrics import accuracy_score, confusion_matrix, classification_report\n",
        "from sklearn.model_selection import train_test_split\n",
        "\n",
        "from ast import literal_eval\n",
        "\n",
        "# Ignore warnings\n",
        "import warnings\n",
        "warnings.filterwarnings(\"ignore\")\n",
        "\n",
        "plt.ion()   # interactive mode"
      ],
      "metadata": {
        "id": "NTjXNkp6CmTf"
      },
      "id": "NTjXNkp6CmTf",
      "execution_count": 3,
      "outputs": []
    },
    {
      "cell_type": "code",
      "source": [
        "device"
      ],
      "metadata": {
        "id": "C1DRIoo5C-AC",
        "colab": {
          "base_uri": "https://localhost:8080/"
        },
        "outputId": "6b914c01-c576-48ce-971c-241ff58d9f7d"
      },
      "id": "C1DRIoo5C-AC",
      "execution_count": 4,
      "outputs": [
        {
          "output_type": "execute_result",
          "data": {
            "text/plain": [
              "device(type='cuda')"
            ]
          },
          "metadata": {},
          "execution_count": 4
        }
      ]
    },
    {
      "cell_type": "code",
      "source": [
        "!nvidia-smi"
      ],
      "metadata": {
        "colab": {
          "base_uri": "https://localhost:8080/"
        },
        "id": "_KiYlVAV_fwA",
        "outputId": "95f21314-2ee9-441b-db8b-b3471f7968c3"
      },
      "id": "_KiYlVAV_fwA",
      "execution_count": 5,
      "outputs": [
        {
          "output_type": "stream",
          "name": "stdout",
          "text": [
            "Mon May 16 19:50:02 2022       \n",
            "+-----------------------------------------------------------------------------+\n",
            "| NVIDIA-SMI 460.32.03    Driver Version: 460.32.03    CUDA Version: 11.2     |\n",
            "|-------------------------------+----------------------+----------------------+\n",
            "| GPU  Name        Persistence-M| Bus-Id        Disp.A | Volatile Uncorr. ECC |\n",
            "| Fan  Temp  Perf  Pwr:Usage/Cap|         Memory-Usage | GPU-Util  Compute M. |\n",
            "|                               |                      |               MIG M. |\n",
            "|===============================+======================+======================|\n",
            "|   0  Tesla T4            Off  | 00000000:00:04.0 Off |                    0 |\n",
            "| N/A   60C    P8    11W /  70W |      3MiB / 15109MiB |      0%      Default |\n",
            "|                               |                      |                  N/A |\n",
            "+-------------------------------+----------------------+----------------------+\n",
            "                                                                               \n",
            "+-----------------------------------------------------------------------------+\n",
            "| Processes:                                                                  |\n",
            "|  GPU   GI   CI        PID   Type   Process name                  GPU Memory |\n",
            "|        ID   ID                                                   Usage      |\n",
            "|=============================================================================|\n",
            "|  No running processes found                                                 |\n",
            "+-----------------------------------------------------------------------------+\n"
          ]
        }
      ]
    },
    {
      "cell_type": "markdown",
      "id": "7c332384-b38b-4c5f-b33d-20b1339ea1c1",
      "metadata": {
        "id": "7c332384-b38b-4c5f-b33d-20b1339ea1c1"
      },
      "source": [
        "\n",
        "#### Bidirectional Recurrent Neural Network"
      ]
    },
    {
      "cell_type": "code",
      "execution_count": 6,
      "id": "f03db30d-3bf9-4d6a-860d-29802567c6aa",
      "metadata": {
        "id": "f03db30d-3bf9-4d6a-860d-29802567c6aa"
      },
      "outputs": [],
      "source": [
        "# Bidirectional recurrent neural network (many-to-one)\n",
        "class BiRNN(nn.Module):\n",
        "    def __init__(self, input_size, hidden_size, num_layers, num_classes):\n",
        "        super(BiRNN, self).__init__()\n",
        "        self.is_training = False\n",
        "        self.hidden_size = hidden_size\n",
        "        self.num_layers = num_layers\n",
        "        self.num_classes = num_classes\n",
        "        self.lstm = nn.LSTM(input_size, hidden_size, num_layers, batch_first=True, bidirectional=True)\n",
        "        self.fc = nn.Dropout(p=0.5, inplace=False)\n",
        "        self.fc = nn.Linear(hidden_size*2, num_classes)\n",
        "        self.linear = nn.Linear(self.hidden_size*2, self.num_classes)\n",
        "        if cuda_enabled:\n",
        "            self.lstm = self.lstm.cuda()\n",
        "            self.fc = self.fc.cuda()\n",
        "            self.linear = self.linear.cuda()\n",
        "    \n",
        "    def forward(self, x):\n",
        "        # Set initial states\n",
        "        h0 = torch.zeros(self.num_layers*2, x.size(0), self.hidden_size).to(device) # 2 for bidirection \n",
        "        c0 = torch.zeros(self.num_layers*2, x.size(0), self.hidden_size).to(device)\n",
        "        if cuda_enabled:\n",
        "            h0 = h0.cuda()  # 2 for bidirection\n",
        "            c0 = c0.cuda()\n",
        "        # Forward propagate LSTM\n",
        "        out, _ = self.lstm(x, (h0, c0))  # out: tensor of shape (batch_size, seq_length, hidden_size*2)\n",
        "        \n",
        "        # Decode hidden state of last time step\n",
        "        if self.is_training:\n",
        "            out = self.fc(out[:, -1, :])\n",
        "        else:\n",
        "            out = out[:, -1, :]\n",
        "        # out = F.log_softmax(self.linear(out), dim=1)\n",
        "        return out"
      ]
    },
    {
      "cell_type": "markdown",
      "id": "d50dce79-b872-4d4e-a08b-b92d47cbb858",
      "metadata": {
        "id": "d50dce79-b872-4d4e-a08b-b92d47cbb858"
      },
      "source": [
        "Dataset class\n",
        "-------------\n",
        "\n",
        "``torch.utils.data.Dataset`` is an abstract class representing a\n",
        "dataset.\n",
        "Your custom dataset should inherit ``Dataset`` and override the following\n",
        "methods:\n",
        "\n",
        "-  ``__len__`` so that ``len(dataset)`` returns the size of the dataset.\n",
        "-  ``__getitem__`` to support the indexing such that ``dataset[i]`` can\n",
        "   be used to get $i$\\ th sample.\n",
        "\n",
        "Let's create a dataset class for our face landmarks dataset. We will\n",
        "read the csv in ``__init__`` but leave the reading of images to\n",
        "``__getitem__``. This is memory efficient because all the images are not\n",
        "stored in the memory at once but read as required.\n",
        "\n",
        "Sample of our dataset will be a dict\n",
        "``{'image': image, 'landmarks': landmarks}``. Our dataset will take an\n",
        "optional argument ``transform`` so that any required processing can be\n",
        "applied on the sample. We will see the usefulness of ``transform`` in the\n",
        "next section.\n",
        "\n",
        "\n"
      ]
    },
    {
      "cell_type": "markdown",
      "source": [
        "Eye Dataset"
      ],
      "metadata": {
        "id": "XlxlY-wp548R"
      },
      "id": "XlxlY-wp548R"
    },
    {
      "cell_type": "code",
      "execution_count": 35,
      "id": "686bdda5-302e-4028-ad3a-bd522756a123",
      "metadata": {
        "jupyter": {
          "outputs_hidden": false
        },
        "id": "686bdda5-302e-4028-ad3a-bd522756a123"
      },
      "outputs": [],
      "source": [
        "class EyeLandmarksDataset(Dataset):\n",
        "    \"\"\"Face Landmarks dataset.\"\"\"\n",
        "\n",
        "    def __init__(self, csv_file, transform=None):#root_dir = img_dir\n",
        "        \"\"\"\n",
        "        Args:\n",
        "            csv_file (string): Path to the csv file with annotations.\n",
        "            root_dir (string): Directory with all the images.\n",
        "            transform (callable, optional): Optional transform to be applied\n",
        "                on a sample.\n",
        "        \"\"\"\n",
        "        self.landmarks_frame = pd.read_csv(csv_file)\n",
        "        self.transform = transform\n",
        "\n",
        "    def __len__(self):\n",
        "        return len(self.landmarks_frame)#same as image label\n",
        "\n",
        "    def __getitem__(self, idx):\n",
        "        if torch.is_tensor(idx):\n",
        "            idx = idx.tolist()\n",
        "\n",
        "        # name = os.path.join(self.root_dir, self.landmarks_frame.iloc[idx, 0])\n",
        "        name = self.landmarks_frame.iloc[idx, 0]\n",
        "        labels = np.zeros(8)\n",
        "        for i in range(8):\n",
        "            labels[i]=name\n",
        "        labels = torch.Tensor(labels).long()\n",
        "        landmarks = self.landmarks_frame.iloc[idx, 1:]\n",
        "        marks = []\n",
        "        for mark in range(len(landmarks)):\n",
        "            arr = literal_eval(landmarks[mark])[0]\n",
        "            arr1 = []\n",
        "            for i in range(len(arr)):\n",
        "                for j in range(len(arr[i])):\n",
        "                    arr1.append(arr[i][j])\n",
        "            marks.append(np.array(arr1))                            \n",
        "        marks = torch.Tensor(marks)\n",
        "        \n",
        "        sample = {'label': labels, 'marks': marks}\n",
        "        if self.transform:\n",
        "            sample = self.transform(sample)\n",
        "        return sample"
      ]
    },
    {
      "cell_type": "markdown",
      "source": [
        "Body Dataset"
      ],
      "metadata": {
        "id": "AY9q8GT257RQ"
      },
      "id": "AY9q8GT257RQ"
    },
    {
      "cell_type": "code",
      "source": [
        "class BodyLandmarksDataset(Dataset):\n",
        "    \"\"\"Face Landmarks dataset.\"\"\"\n",
        "\n",
        "    def __init__(self, csv_file, transform=None):#root_dir = img_dir\n",
        "        \"\"\"\n",
        "        Args:\n",
        "            csv_file (string): Path to the csv file with annotations.\n",
        "            root_dir (string): Directory with all the images.\n",
        "            transform (callable, optional): Optional transform to be applied\n",
        "                on a sample.\n",
        "        \"\"\"\n",
        "        self.landmarks_frame = pd.read_csv(csv_file)\n",
        "        self.transform = transform\n",
        "\n",
        "    def __len__(self):\n",
        "        return len(self.landmarks_frame)#same as image label\n",
        "\n",
        "    def __getitem__(self, idx):\n",
        "        if torch.is_tensor(idx):\n",
        "            idx = idx.tolist()\n",
        "\n",
        "        # name = os.path.join(self.root_dir, self.landmarks_frame.iloc[idx, 0])\n",
        "        name = self.landmarks_frame.iloc[idx, 0]\n",
        "        labels = np.zeros(36)\n",
        "        for i in range(36):\n",
        "            labels[i]=name\n",
        "        labels = torch.Tensor(labels).long()\n",
        "        landmarks = self.landmarks_frame.iloc[idx, 1:]\n",
        "        marks = []\n",
        "        for mark in range(len(landmarks)):\n",
        "            arr=literal_eval(landmarks[mark])\n",
        "            arr1=[]\n",
        "            for i in range(len(arr)):\n",
        "                arr1.append(float(arr[i]))\n",
        "                           \n",
        "            arr1 = np.array(arr1)\n",
        "            marks.append(arr1)\n",
        "                 \n",
        "        marks = torch.Tensor(marks)\n",
        "        \n",
        "        sample = {'label': labels, 'marks': marks}\n",
        "        if self.transform:\n",
        "            sample = self.transform(sample)\n",
        "        return sample"
      ],
      "metadata": {
        "id": "h7ncUeoRY-hU"
      },
      "id": "h7ncUeoRY-hU",
      "execution_count": 15,
      "outputs": []
    },
    {
      "cell_type": "markdown",
      "source": [
        "Load Eye Dataset"
      ],
      "metadata": {
        "id": "56sL0Hp26BG4"
      },
      "id": "56sL0Hp26BG4"
    },
    {
      "cell_type": "code",
      "execution_count": 36,
      "id": "7a5fa1a8-4f8d-4408-90f6-ea3f67ea78ed",
      "metadata": {
        "colab": {
          "base_uri": "https://localhost:8080/"
        },
        "id": "7a5fa1a8-4f8d-4408-90f6-ea3f67ea78ed",
        "outputId": "9aa9c413-ced9-4bec-8d47-93c08967a39b"
      },
      "outputs": [
        {
          "output_type": "execute_result",
          "data": {
            "text/plain": [
              "(229, torch.Size([8]), torch.Size([511, 8]))"
            ]
          },
          "metadata": {},
          "execution_count": 36
        }
      ],
      "source": [
        "eyedataset = EyeLandmarksDataset(csv_file='/content/drive/MyDrive/allDatanew.csv')\n",
        "eyedataset.__len__(), eyedataset.__getitem__(0)['label'].shape, eyedataset.__getitem__(0)['marks'].shape"
      ]
    },
    {
      "cell_type": "markdown",
      "source": [
        "Load Body Dataset"
      ],
      "metadata": {
        "id": "K0LQ9nai6EJe"
      },
      "id": "K0LQ9nai6EJe"
    },
    {
      "cell_type": "code",
      "source": [
        "bodydataset = BodyLandmarksDataset(csv_file='/content/drive/MyDrive/noBlanksnew.csv')\n",
        "bodydataset.__len__(), bodydataset.__getitem__(0)['label'].shape, bodydataset.__getitem__(0)['marks'].shape"
      ],
      "metadata": {
        "colab": {
          "base_uri": "https://localhost:8080/"
        },
        "id": "YHUl6bP6ZHKc",
        "outputId": "9c924c6a-4144-4c3f-e2c8-e2c10c927238"
      },
      "id": "YHUl6bP6ZHKc",
      "execution_count": 17,
      "outputs": [
        {
          "output_type": "execute_result",
          "data": {
            "text/plain": [
              "(217, torch.Size([36]), torch.Size([511, 36]))"
            ]
          },
          "metadata": {},
          "execution_count": 17
        }
      ]
    },
    {
      "cell_type": "code",
      "source": [
        "bodydataset.__getitem__(100)['label'], bodydataset.__getitem__(100)['marks']"
      ],
      "metadata": {
        "colab": {
          "base_uri": "https://localhost:8080/"
        },
        "id": "6X-EI7AsZjaR",
        "outputId": "68152c4c-40b3-4154-a8e6-4660620cbcd5"
      },
      "id": "6X-EI7AsZjaR",
      "execution_count": 18,
      "outputs": [
        {
          "output_type": "execute_result",
          "data": {
            "text/plain": [
              "(tensor([1, 1, 1, 1, 1, 1, 1, 1, 1, 1, 1, 1, 1, 1, 1, 1, 1, 1, 1, 1, 1, 1, 1, 1,\n",
              "         1, 1, 1, 1, 1, 1, 1, 1, 1, 1, 1, 1]),\n",
              " tensor([[834., 156.,  -1.,  ..., 156.,  -1.,  -1.],\n",
              "         [806., 140.,  -1.,  ..., 156.,  -1.,  -1.],\n",
              "         [806., 140.,  -1.,  ..., 156.,  -1.,  -1.],\n",
              "         ...,\n",
              "         [ -1.,  -1.,  -1.,  ...,  -1.,  -1.,  -1.],\n",
              "         [ -1.,  -1.,  -1.,  ...,  -1.,  -1.,  -1.],\n",
              "         [ -1.,  -1.,  -1.,  ...,  -1.,  -1.,  -1.]]))"
            ]
          },
          "metadata": {},
          "execution_count": 18
        }
      ]
    },
    {
      "cell_type": "code",
      "execution_count": 37,
      "id": "5314b415-739b-46b9-934e-e1d3817ef059",
      "metadata": {
        "colab": {
          "base_uri": "https://localhost:8080/"
        },
        "id": "5314b415-739b-46b9-934e-e1d3817ef059",
        "outputId": "d76552b0-5561-42f7-c0b4-49a02e0570dd"
      },
      "outputs": [
        {
          "output_type": "execute_result",
          "data": {
            "text/plain": [
              "(tensor([[ 42.,  56.,  52.,  52., 123.,  69.,  39.,  39.],\n",
              "         [124.,  69.,  38.,  38.,  86., 144.,  57.,  57.],\n",
              "         [122.,  65.,  43.,  43.,  81., 141.,  63.,  63.],\n",
              "         [ 39.,  56.,  55.,  55., 122.,  62.,  49.,  49.],\n",
              "         [ 34.,  57.,  54.,  54., 117.,  60.,  51.,  51.]]),\n",
              " tensor([1, 1, 1, 1, 1, 1, 1, 1]))"
            ]
          },
          "metadata": {},
          "execution_count": 37
        }
      ],
      "source": [
        "eyedataset.__getitem__(228)['marks'][:5], eyedataset.__getitem__(228)['label']"
      ]
    },
    {
      "cell_type": "markdown",
      "source": [
        "Divide Dataset for Training and Testing\n"
      ],
      "metadata": {
        "id": "eezp8J_v6QPC"
      },
      "id": "eezp8J_v6QPC"
    },
    {
      "cell_type": "code",
      "source": [
        "def train_total_dataset(dataset, total_split=0.30): #Training set be 70% of the dataset\n",
        "    train_idx, total_idx = train_test_split(list(range(len(dataset))), test_size=total_split)\n",
        "    datasets = {}\n",
        "    datasets['train'] = Subset(dataset, train_idx)\n",
        "    datasets['total_split'] = Subset(dataset, total_idx)\n",
        "    return datasets\n",
        "\n",
        "# hyperparams for the network\n",
        "batch_size = 64"
      ],
      "metadata": {
        "id": "PcgLPqpNeMGy"
      },
      "id": "PcgLPqpNeMGy",
      "execution_count": 20,
      "outputs": []
    },
    {
      "cell_type": "markdown",
      "source": [
        "Make Eye NN Loders"
      ],
      "metadata": {
        "id": "5ttIV8wx6YNo"
      },
      "id": "5ttIV8wx6YNo"
    },
    {
      "cell_type": "code",
      "execution_count": 38,
      "id": "699e8fad-b758-4b3e-a825-631afb2c51c7",
      "metadata": {
        "colab": {
          "base_uri": "https://localhost:8080/"
        },
        "id": "699e8fad-b758-4b3e-a825-631afb2c51c7",
        "outputId": "e585df4e-b725-42ab-f826-85ee44dc8fb3"
      },
      "outputs": [
        {
          "output_type": "stream",
          "name": "stdout",
          "text": [
            "Starting Eye NN dataset -------------------------------------\n",
            "229 <__main__.EyeLandmarksDataset object at 0x7f546cc310d0>\n",
            "160 <torch.utils.data.dataset.Subset object at 0x7f546ca31dd0>\n",
            "69 <torch.utils.data.dataset.Subset object at 0x7f546ca31550>\n",
            "Starting Eye NN loader -------------------------------------\n",
            "3 <torch.utils.data.dataloader.DataLoader object at 0x7f546ca31f10>\n",
            "2 <torch.utils.data.dataloader.DataLoader object at 0x7f546ca31f90>\n",
            "Finish  -------------------------------------\n"
          ]
        }
      ],
      "source": [
        "print('Starting Eye NN dataset -------------------------------------')\n",
        "eye_datasets = train_total_dataset(eyedataset)\n",
        "eye_train = eye_datasets['train']\n",
        "eye_test = eye_datasets['total_split']\n",
        "# The original dataset is available in the Subset class\n",
        "print(len(eye_datasets['train'].dataset), eye_datasets['train'].dataset)\n",
        "print(len(eye_train), eye_train)\n",
        "print(len(eye_test), eye_test)\n",
        "\n",
        "print('Starting Eye NN loader -------------------------------------')\n",
        "eye_train_loader = DataLoader(dataset=eye_train, batch_size=batch_size, shuffle=True)\n",
        "eye_test_loader = DataLoader(dataset=eye_test, batch_size=batch_size, shuffle=False)\n",
        "print(len(eye_train_loader), eye_train_loader)\n",
        "print(len(eye_test_loader), eye_test_loader)\n",
        "print('Finish  -------------------------------------')"
      ]
    },
    {
      "cell_type": "markdown",
      "source": [
        "Make Body NN Loders"
      ],
      "metadata": {
        "id": "YhYaTVu-6chE"
      },
      "id": "YhYaTVu-6chE"
    },
    {
      "cell_type": "code",
      "source": [
        "print('Starting Body NN dataset -------------------------------------')\n",
        "body_datasets = train_total_dataset(bodydataset)\n",
        "body_train = body_datasets['train']\n",
        "body_test = body_datasets['total_split']\n",
        "# The original dataset is available in the Subset class\n",
        "print(len(body_datasets['train'].dataset), body_datasets['train'].dataset)\n",
        "print(len(body_train), body_train)\n",
        "print(len(body_test), body_test)\n",
        "\n",
        "print('Starting Body NN loader -------------------------------------')\n",
        "body_train_loader = DataLoader(dataset=body_train, batch_size=batch_size, shuffle=True)\n",
        "body_test_loader = DataLoader(dataset=body_test, batch_size=batch_size, shuffle=False)\n",
        "print(len(body_train_loader), body_train_loader)\n",
        "print(len(body_test_loader), body_test_loader)\n",
        "print('Finish  -------------------------------------')"
      ],
      "metadata": {
        "colab": {
          "base_uri": "https://localhost:8080/"
        },
        "id": "OyT9Ax6keUPu",
        "outputId": "8a865e93-c864-4f71-e9a2-ab612c9e020a"
      },
      "id": "OyT9Ax6keUPu",
      "execution_count": 22,
      "outputs": [
        {
          "output_type": "stream",
          "name": "stdout",
          "text": [
            "Starting Body NN dataset -------------------------------------\n",
            "217 <__main__.BodyLandmarksDataset object at 0x7f546dfe5890>\n",
            "151 <torch.utils.data.dataset.Subset object at 0x7f546cf3bed0>\n",
            "66 <torch.utils.data.dataset.Subset object at 0x7f546cf23210>\n",
            "Starting Body NN loader -------------------------------------\n",
            "3 <torch.utils.data.dataloader.DataLoader object at 0x7f546cf230d0>\n",
            "2 <torch.utils.data.dataloader.DataLoader object at 0x7f546cf23a50>\n",
            "Finish  -------------------------------------\n"
          ]
        }
      ]
    },
    {
      "cell_type": "markdown",
      "source": [
        "LSTM Init parameters"
      ],
      "metadata": {
        "id": "zpWDE5OOfKXL"
      },
      "id": "zpWDE5OOfKXL"
    },
    {
      "cell_type": "code",
      "source": [
        "#Init NN\n",
        "input_size = 1\n",
        "sequence_length = 511\n",
        "hidden_size = 128\n",
        "num_layers = 2\n",
        "num_classes = 2  # TODO: Determine this from the data\n",
        "learning_rate = 0.0001\n",
        "num_epochs = 300\n",
        "epoch_loss = 5000000000."
      ],
      "metadata": {
        "id": "zKv_XemefHUC"
      },
      "id": "zKv_XemefHUC",
      "execution_count": 26,
      "outputs": []
    },
    {
      "cell_type": "markdown",
      "source": [
        "Eye Tracking LSTM"
      ],
      "metadata": {
        "id": "TiRw_HmJe8W8"
      },
      "id": "TiRw_HmJe8W8"
    },
    {
      "cell_type": "code",
      "execution_count": 39,
      "id": "3341c464-4450-403b-b385-51601065aab7",
      "metadata": {
        "id": "3341c464-4450-403b-b385-51601065aab7"
      },
      "outputs": [],
      "source": [
        "# The network\n",
        "eye_model = BiRNN(input_size, hidden_size, num_layers, num_classes).to(device)\n",
        "eye_model.is_training = True\n",
        "\n",
        "# Loss and optimizer\n",
        "eye_criterion = nn.CrossEntropyLoss()\n",
        "eye_optimizer = torch.optim.Adam(eye_model.parameters(), lr=learning_rate)"
      ]
    },
    {
      "cell_type": "markdown",
      "source": [
        "Body Tracking LSTM"
      ],
      "metadata": {
        "id": "D7KSSYqce4wY"
      },
      "id": "D7KSSYqce4wY"
    },
    {
      "cell_type": "code",
      "source": [
        "# The network\n",
        "body_model = BiRNN(input_size, hidden_size, num_layers, num_classes).to(device)\n",
        "body_model.is_training = True\n",
        "\n",
        "# Loss and optimizer\n",
        "body_criterion = nn.CrossEntropyLoss()\n",
        "body_optimizer = torch.optim.Adam(body_model.parameters(), lr=learning_rate)"
      ],
      "metadata": {
        "id": "O59nctKwZdFy"
      },
      "id": "O59nctKwZdFy",
      "execution_count": 30,
      "outputs": []
    },
    {
      "cell_type": "markdown",
      "source": [
        "Check loaders"
      ],
      "metadata": {
        "id": "TvtmyAs-fhpa"
      },
      "id": "TvtmyAs-fhpa"
    },
    {
      "cell_type": "code",
      "execution_count": 43,
      "id": "b301f4ac-7bb1-4b23-ba0d-b8d5fd0aea4b",
      "metadata": {
        "id": "b301f4ac-7bb1-4b23-ba0d-b8d5fd0aea4b",
        "outputId": "472775fa-4785-405f-9c12-6cbb59c6b454",
        "colab": {
          "base_uri": "https://localhost:8080/"
        }
      },
      "outputs": [
        {
          "output_type": "stream",
          "name": "stdout",
          "text": [
            "tensor([1, 1, 1, 1, 1, 1, 1, 1])\n",
            "tensor([[154.,  60.,  67.,  67.,  38.,  56.,  66.,  66.],\n",
            "        [ 28.,  54.,  66.,  66., 143.,  62.,  63.,  63.],\n",
            "        [ 36.,  55.,  59.,  59.,  -1.,  -1.,  -1.,  -1.],\n",
            "        [ -1.,  -1.,  -1.,  -1.,  -1.,  -1.,  -1.,  -1.],\n",
            "        [ -1.,  -1.,  -1.,  -1.,  -1.,  -1.,  -1.,  -1.]])\n",
            "tensor([1, 1, 1, 1, 1, 1, 1, 1, 1, 1, 1, 1, 1, 1, 1, 1, 1, 1, 1, 1, 1, 1, 1, 1,\n",
            "        1, 1, 1, 1, 1, 1, 1, 1, 1, 1, 1, 1])\n",
            "tensor([[-1., -1., -1., -1., -1., -1., -1., -1., -1., -1., -1., -1., -1., -1.,\n",
            "         -1., -1., -1., -1., -1., -1., -1., -1., -1., -1., -1., -1., -1., -1.,\n",
            "         -1., -1., -1., -1., -1., -1., -1., -1.],\n",
            "        [-1., -1., -1., -1., -1., -1., -1., -1., -1., -1., -1., -1., -1., -1.,\n",
            "         -1., -1., -1., -1., -1., -1., -1., -1., -1., -1., -1., -1., -1., -1.,\n",
            "         -1., -1., -1., -1., -1., -1., -1., -1.],\n",
            "        [-1., -1., -1., -1., -1., -1., -1., -1., -1., -1., -1., -1., -1., -1.,\n",
            "         -1., -1., -1., -1., -1., -1., -1., -1., -1., -1., -1., -1., -1., -1.,\n",
            "         -1., -1., -1., -1., -1., -1., -1., -1.],\n",
            "        [-1., -1., -1., -1., -1., -1., -1., -1., -1., -1., -1., -1., -1., -1.,\n",
            "         -1., -1., -1., -1., -1., -1., -1., -1., -1., -1., -1., -1., -1., -1.,\n",
            "         -1., -1., -1., -1., -1., -1., -1., -1.],\n",
            "        [-1., -1., -1., -1., -1., -1., -1., -1., -1., -1., -1., -1., -1., -1.,\n",
            "         -1., -1., -1., -1., -1., -1., -1., -1., -1., -1., -1., -1., -1., -1.,\n",
            "         -1., -1., -1., -1., -1., -1., -1., -1.]])\n"
          ]
        }
      ],
      "source": [
        "for i, (sample) in enumerate(eye_train_loader):\n",
        "    labels, marks = sample['label'], sample['marks']\n",
        "    print(labels[0])\n",
        "    print(marks[0][:5])\n",
        "    break\n",
        "\n",
        "for i, (sample) in enumerate(body_train_loader):\n",
        "    labels, marks = sample['label'], sample['marks']\n",
        "    print(labels[0])\n",
        "    print(marks[0][:5])\n",
        "    break"
      ]
    },
    {
      "cell_type": "code",
      "source": [
        "#just for retesting purposes using only 2 epochs\n",
        "num_epochs = 2\n",
        "#For training purposes we used 300 epochs, we recommend using at least 100 epochs for good training results"
      ],
      "metadata": {
        "id": "gMIZoYbUgDkc"
      },
      "id": "gMIZoYbUgDkc",
      "execution_count": 46,
      "outputs": []
    },
    {
      "cell_type": "markdown",
      "source": [
        "Train Eye LSTM"
      ],
      "metadata": {
        "id": "IEghVGZdfulf"
      },
      "id": "IEghVGZdfulf"
    },
    {
      "cell_type": "code",
      "execution_count": 47,
      "id": "b0553908-7a75-43b4-95ec-95baefff9602",
      "metadata": {
        "colab": {
          "base_uri": "https://localhost:8080/"
        },
        "id": "b0553908-7a75-43b4-95ec-95baefff9602",
        "outputId": "80b2d726-3b95-4317-8856-4d2ae8503ae9"
      },
      "outputs": [
        {
          "output_type": "stream",
          "name": "stdout",
          "text": [
            "Epoch [1/2], Step [10/2], Loss: 0.7108\n",
            "Epoch [1/2], Step [20/2], Loss: 0.7989\n",
            "Epoch [1/2], Step [30/2], Loss: 0.6629\n",
            "Epoch [1/2], Step [40/2], Loss: 0.5384\n",
            "Epoch [1/2], Step [50/2], Loss: 0.5374\n",
            "Epoch [1/2], Step [60/2], Loss: 0.6042\n",
            "Epoch [1/2], Step [70/2], Loss: 0.5616\n",
            "Epoch [1/2], Step [80/2], Loss: 0.6309\n",
            "Epoch [1/2], Step [90/2], Loss: 0.6407\n",
            "Epoch [1/2], Step [100/2], Loss: 0.6707\n",
            "Epoch [1/2], Step [110/2], Loss: 0.8269\n",
            "Epoch [1/2], Step [120/2], Loss: 0.7008\n",
            "Epoch [1/2], Step [130/2], Loss: 0.6922\n",
            "Epoch [1/2], Step [140/2], Loss: 0.7707\n",
            "Epoch [1/2], Step [150/2], Loss: 0.5875\n",
            "Epoch [1/2], Step [160/2], Loss: 0.5267\n",
            "Epoch 0; loss = 0.6750\n",
            "0:00:10.204529\n",
            "Epoch [2/2], Step [10/2], Loss: 0.7155\n",
            "Epoch [2/2], Step [20/2], Loss: 0.8112\n",
            "Epoch [2/2], Step [30/2], Loss: 0.6520\n",
            "Epoch [2/2], Step [40/2], Loss: 0.5347\n",
            "Epoch [2/2], Step [50/2], Loss: 0.5338\n",
            "Epoch [2/2], Step [60/2], Loss: 0.5996\n",
            "Epoch [2/2], Step [70/2], Loss: 0.5568\n",
            "Epoch [2/2], Step [80/2], Loss: 0.6185\n",
            "Epoch [2/2], Step [90/2], Loss: 0.6200\n",
            "Epoch [2/2], Step [100/2], Loss: 0.6588\n",
            "Epoch [2/2], Step [110/2], Loss: 0.8287\n",
            "Epoch [2/2], Step [120/2], Loss: 0.7042\n",
            "Epoch [2/2], Step [130/2], Loss: 0.6957\n",
            "Epoch [2/2], Step [140/2], Loss: 0.7800\n",
            "Epoch [2/2], Step [150/2], Loss: 0.5662\n",
            "Epoch [2/2], Step [160/2], Loss: 0.5279\n",
            "Epoch 1; loss = 0.6739\n",
            "0:00:10.695797\n",
            "0:00:20.902039\n"
          ]
        }
      ],
      "source": [
        "eye_epochs = []\n",
        "eye_losses = []\n",
        "timing = dict()\n",
        "timing['total_training'] = datetime.datetime.now()\n",
        "for epoch in range(num_epochs):\n",
        "    timing['training'] = datetime.datetime.now()\n",
        "    loss_total = 0.\n",
        "    iteration_count = 0.\n",
        "    for i, sample in enumerate(eye_train):\n",
        "        iteration_count += 1.\n",
        "        labels, marks = sample['label'], sample['marks'] \n",
        "        marks = marks.reshape(-1, sequence_length, input_size).to(device)\n",
        "        labels = labels.to(device)\n",
        "        if cuda_enabled:\n",
        "            marks = marks.cuda()\n",
        "            labels = labels.cuda()\n",
        "\n",
        "        # Forward + Backward + Optimize\n",
        "        eye_optimizer.zero_grad()\n",
        "        outputs = eye_model(marks)\n",
        "\n",
        "        loss = eye_criterion(outputs, labels)\n",
        "        loss_total += loss.item()\n",
        "        loss.backward()\n",
        "        eye_optimizer.step()\n",
        "\n",
        "        if (i + 1) % 10 == 0:\n",
        "            print('Epoch [%d/%d], Step [%d/%d], Loss: %.4f'\n",
        "                  % (epoch + 1, num_epochs, i + 1, len(eye_train) // batch_size, loss.item()))\n",
        "    current_epoch_loss = loss_total / iteration_count\n",
        "    print('Epoch %d; loss = %0.4f' % (epoch, current_epoch_loss))\n",
        "    eye_epochs.append(epoch)\n",
        "    eye_losses.append(current_epoch_loss)\n",
        "    timing['training'] = datetime.datetime.now() - timing['training']\n",
        "    print(timing['training'])\n",
        "    epoch_loss = current_epoch_loss\n",
        "\n",
        "timing['total_training'] = datetime.datetime.now() - timing['total_training']\n",
        "print(timing['total_training'])\n"
      ]
    },
    {
      "cell_type": "code",
      "execution_count": 48,
      "id": "bf079b7b-91e8-4acb-b30b-c1bff8f2f6dd",
      "metadata": {
        "id": "bf079b7b-91e8-4acb-b30b-c1bff8f2f6dd"
      },
      "outputs": [],
      "source": [
        "# Save the Model\n",
        "torch.save(eye_model.state_dict(), 'ShouldIDrive_eye_tracking_colab1_retesting.pkl')"
      ]
    },
    {
      "cell_type": "code",
      "source": [
        "textfile = open(\"eyelosseslist.txt\", \"w\")\n",
        "for element in eye_losses:\n",
        "  textfile.write(str(element) + \"\\n\")\n",
        "textfile.close()\n",
        "\n",
        "plt.plot(eye_epochs, eye_losses)\n",
        "plt.title('Eye Tracking LSTM Training Loss',fontsize=15)\n",
        "plt.ylabel('Loss Rate',fontsize=12) \n",
        "plt.xlabel('Number of Epochs',fontsize=12) \n",
        "plt.grid(True) \n",
        "plt.savefig('eyelosscurve.png')\n",
        "plt.show()"
      ],
      "metadata": {
        "colab": {
          "base_uri": "https://localhost:8080/",
          "height": 300
        },
        "id": "0-COOPD2hcZv",
        "outputId": "3139b3ec-49db-4949-d658-fd5b6eda2562"
      },
      "id": "0-COOPD2hcZv",
      "execution_count": 49,
      "outputs": [
        {
          "output_type": "display_data",
          "data": {
            "text/plain": [
              "<Figure size 432x288 with 1 Axes>"
            ],
            "image/png": "[encoded data removed]"
          },
          "metadata": {
            "needs_background": "light"
          }
        }
      ]
    },
    {
      "cell_type": "markdown",
      "source": [
        "If you have previously trained the LSTM and have saved the model as a pickle file, then you can start loading the model here and testing :"
      ],
      "metadata": {
        "id": "H9tlSCZz0Fft"
      },
      "id": "H9tlSCZz0Fft"
    },
    {
      "cell_type": "markdown",
      "source": [
        "Load Trained Eye Model"
      ],
      "metadata": {
        "id": "0PfCrx2-74hN"
      },
      "id": "0PfCrx2-74hN"
    },
    {
      "cell_type": "code",
      "source": [
        "eye_model_path = '/content/ShouldIDrive_eye_tracking_colab1_retesting.pkl'\n",
        "\n",
        "eye_model.load_state_dict(torch.load(eye_model_path))\n",
        "eye_model.eval()"
      ],
      "metadata": {
        "colab": {
          "base_uri": "https://localhost:8080/"
        },
        "id": "GLXud0FnGtQE",
        "outputId": "f0f97b69-6d52-4b75-9724-88eb05322aa1"
      },
      "id": "GLXud0FnGtQE",
      "execution_count": 54,
      "outputs": [
        {
          "output_type": "execute_result",
          "data": {
            "text/plain": [
              "BiRNN(\n",
              "  (lstm): LSTM(1, 128, num_layers=2, batch_first=True, bidirectional=True)\n",
              "  (fc): Linear(in_features=256, out_features=2, bias=True)\n",
              "  (linear): Linear(in_features=256, out_features=2, bias=True)\n",
              ")"
            ]
          },
          "metadata": {},
          "execution_count": 54
        }
      ]
    },
    {
      "cell_type": "markdown",
      "source": [
        "Test Eye LSTM"
      ],
      "metadata": {
        "id": "v91lB2X-jIXb"
      },
      "id": "v91lB2X-jIXb"
    },
    {
      "cell_type": "code",
      "source": [
        "eye_model.is_training = False\n",
        "timing = dict()\n",
        "timing['testing'] = datetime.datetime.now()\n",
        "print('Testing -----------------------------------------------')\n",
        "correct = 0.0\n",
        "for total, (sample) in enumerate(eye_test):\n",
        "      labels, marks = sample['label'], sample['marks']\n",
        "      marks = marks.reshape(-1, sequence_length, input_size).to(device)\n",
        "      labels = labels.to(device)\n",
        "      outputs = eye_model(marks)\n",
        "      _, predicted = torch.max(outputs.data, 1)\n",
        "      if(predicted.__contains__(labels[0].item())): correct += 1.0\n",
        "\n",
        "total += 1\n",
        "print('Test Accuracy of {} model \\n on the {} test videos: {} %'.format(eye_model_path, total, 100 * correct / total)) \n",
        "timing['testing'] = datetime.datetime.now() - timing['testing']\n",
        "print(timing['testing'])"
      ],
      "metadata": {
        "colab": {
          "base_uri": "https://localhost:8080/"
        },
        "id": "YVWbZipBiMa7",
        "outputId": "a4724573-9c48-495d-d28d-f5ec14a402f8"
      },
      "id": "YVWbZipBiMa7",
      "execution_count": 78,
      "outputs": [
        {
          "output_type": "stream",
          "name": "stdout",
          "text": [
            "Testing -----------------------------------------------\n",
            "Test Accuracy of /content/ShouldIDrive_eye_tracking_colab1_retesting.pkl model \n",
            " on the 69 test videos: 0.0 %\n",
            "0:00:02.712185\n"
          ]
        }
      ]
    },
    {
      "cell_type": "markdown",
      "source": [
        "Train Body LSTM"
      ],
      "metadata": {
        "id": "Z5uQbBA7jQiY"
      },
      "id": "Z5uQbBA7jQiY"
    },
    {
      "cell_type": "code",
      "execution_count": 67,
      "metadata": {
        "colab": {
          "base_uri": "https://localhost:8080/"
        },
        "outputId": "4e092e79-02f4-4629-d2e7-473793758a7a",
        "id": "236NrfvqjYpQ"
      },
      "outputs": [
        {
          "output_type": "stream",
          "name": "stdout",
          "text": [
            "Epoch [1/2], Step [10/2], Loss: 0.7324\n",
            "Epoch [1/2], Step [20/2], Loss: 0.7281\n",
            "Epoch [1/2], Step [30/2], Loss: 0.7151\n",
            "Epoch [1/2], Step [40/2], Loss: 0.6788\n",
            "Epoch [1/2], Step [50/2], Loss: 0.7016\n",
            "Epoch [1/2], Step [60/2], Loss: 0.6830\n",
            "Epoch [1/2], Step [70/2], Loss: 0.6968\n",
            "Epoch [1/2], Step [80/2], Loss: 0.6742\n",
            "Epoch [1/2], Step [90/2], Loss: 0.6839\n",
            "Epoch [1/2], Step [100/2], Loss: 0.6858\n",
            "Epoch [1/2], Step [110/2], Loss: 0.6706\n",
            "Epoch [1/2], Step [120/2], Loss: 0.7046\n",
            "Epoch [1/2], Step [130/2], Loss: 0.7495\n",
            "Epoch [1/2], Step [140/2], Loss: 0.6602\n",
            "Epoch [1/2], Step [150/2], Loss: 0.6340\n",
            "Epoch 0; loss = 0.6925\n",
            "0:00:13.881717\n",
            "Epoch [2/2], Step [10/2], Loss: 0.6535\n",
            "Epoch [2/2], Step [20/2], Loss: 0.6690\n",
            "Epoch [2/2], Step [30/2], Loss: 0.6424\n",
            "Epoch [2/2], Step [40/2], Loss: 0.7529\n",
            "Epoch [2/2], Step [50/2], Loss: 0.6350\n",
            "Epoch [2/2], Step [60/2], Loss: 0.6049\n",
            "Epoch [2/2], Step [70/2], Loss: 0.6370\n",
            "Epoch [2/2], Step [80/2], Loss: 0.6068\n",
            "Epoch [2/2], Step [90/2], Loss: 0.6280\n",
            "Epoch [2/2], Step [100/2], Loss: 0.6334\n",
            "Epoch [2/2], Step [110/2], Loss: 0.6198\n",
            "Epoch [2/2], Step [120/2], Loss: 0.7544\n",
            "Epoch [2/2], Step [130/2], Loss: 0.8090\n",
            "Epoch [2/2], Step [140/2], Loss: 0.6160\n",
            "Epoch [2/2], Step [150/2], Loss: 0.5895\n",
            "Epoch 1; loss = 0.6859\n",
            "0:00:13.611018\n",
            "0:00:27.493624\n"
          ]
        }
      ],
      "source": [
        "body_epochs = []\n",
        "body_losses = []\n",
        "timing = dict()\n",
        "timing['total_training'] = datetime.datetime.now()\n",
        "for epoch in range(num_epochs):\n",
        "    timing['training'] = datetime.datetime.now()\n",
        "    loss_total = 0.\n",
        "    iteration_count = 0.\n",
        "    for i, sample in enumerate(body_train):\n",
        "        iteration_count += 1.\n",
        "        labels, marks = sample['label'], sample['marks'] \n",
        "        marks = marks.reshape(-1, sequence_length, input_size).to(device)\n",
        "        labels = labels.to(device)\n",
        "        if cuda_enabled:\n",
        "            marks = marks.cuda()\n",
        "            labels = labels.cuda()\n",
        "\n",
        "        # Forward + Backward + Optimize\n",
        "        body_optimizer.zero_grad()\n",
        "        outputs = body_model(marks)\n",
        "\n",
        "        loss = body_criterion(outputs, labels)\n",
        "        loss_total += loss.item()\n",
        "        loss.backward()\n",
        "        body_optimizer.step()\n",
        "\n",
        "        if (i + 1) % 10 == 0:\n",
        "            print('Epoch [%d/%d], Step [%d/%d], Loss: %.4f'\n",
        "                  % (epoch + 1, num_epochs, i + 1, len(body_train) // batch_size, loss.item()))\n",
        "    current_epoch_loss = loss_total / iteration_count\n",
        "    print('Epoch %d; loss = %0.4f' % (epoch, current_epoch_loss))\n",
        "    body_epochs.append(epoch)\n",
        "    body_losses.append(current_epoch_loss)\n",
        "    timing['training'] = datetime.datetime.now() - timing['training']\n",
        "    print(timing['training'])\n",
        "    epoch_loss = current_epoch_loss\n",
        "\n",
        "timing['total_training'] = datetime.datetime.now() - timing['total_training']\n",
        "print(timing['total_training'])\n"
      ],
      "id": "236NrfvqjYpQ"
    },
    {
      "cell_type": "code",
      "source": [
        "# Save the Model\n",
        "torch.save(body_model.state_dict(), 'ShouldIDrive_body_tracking_colab1_retesting.pkl')"
      ],
      "metadata": {
        "id": "NqsC40G_j15Q"
      },
      "id": "NqsC40G_j15Q",
      "execution_count": 68,
      "outputs": []
    },
    {
      "cell_type": "code",
      "source": [
        "textfile = open(\"bodylosseslist.txt\", \"w\")\n",
        "for element in body_losses:\n",
        "  textfile.write(str(element) + \"\\n\")\n",
        "textfile.close()\n",
        "\n",
        "plt.plot(body_epochs, body_losses)\n",
        "plt.title('Body Tracking LSTM Training Loss',fontsize=15)\n",
        "plt.ylabel('Loss Rate',fontsize=12) \n",
        "plt.xlabel('Number of Epochs',fontsize=12) \n",
        "plt.grid(True) \n",
        "plt.savefig('bodylosscurve.png')\n",
        "plt.show()"
      ],
      "metadata": {
        "colab": {
          "base_uri": "https://localhost:8080/",
          "height": 300
        },
        "id": "-Oraiedej6NC",
        "outputId": "5157e2ac-1cf5-4da1-e98c-5fb4129d8d1a"
      },
      "id": "-Oraiedej6NC",
      "execution_count": 69,
      "outputs": [
        {
          "output_type": "display_data",
          "data": {
            "text/plain": [
              "<Figure size 432x288 with 1 Axes>"
            ],
            "image/png": "[encoded data removed]"
          },
          "metadata": {
            "needs_background": "light"
          }
        }
      ]
    },
    {
      "cell_type": "markdown",
      "source": [
        "This next step can also work if you have access to an already saved trained model"
      ],
      "metadata": {
        "id": "3B94MwS8kE2d"
      },
      "id": "3B94MwS8kE2d"
    },
    {
      "cell_type": "markdown",
      "source": [
        "Load Trained Body Model"
      ],
      "metadata": {
        "id": "ikJZ275Y8JfC"
      },
      "id": "ikJZ275Y8JfC"
    },
    {
      "cell_type": "code",
      "source": [
        "body_model_path = '/content/ShouldIDrive_body_tracking_colab1_retesting.pkl'\n",
        "\n",
        "body_model.load_state_dict(torch.load(body_model_path))\n",
        "body_model.eval()"
      ],
      "metadata": {
        "colab": {
          "base_uri": "https://localhost:8080/"
        },
        "id": "aak-YURHZp-W",
        "outputId": "2532a1da-75fe-499e-a9a6-ccb0a5f9b28e"
      },
      "id": "aak-YURHZp-W",
      "execution_count": 70,
      "outputs": [
        {
          "output_type": "execute_result",
          "data": {
            "text/plain": [
              "BiRNN(\n",
              "  (lstm): LSTM(1, 128, num_layers=2, batch_first=True, bidirectional=True)\n",
              "  (fc): Linear(in_features=256, out_features=2, bias=True)\n",
              "  (linear): Linear(in_features=256, out_features=2, bias=True)\n",
              ")"
            ]
          },
          "metadata": {},
          "execution_count": 70
        }
      ]
    },
    {
      "cell_type": "markdown",
      "source": [
        "Test Body LSTM"
      ],
      "metadata": {
        "id": "dVET3UsYkT0v"
      },
      "id": "dVET3UsYkT0v"
    },
    {
      "cell_type": "code",
      "source": [
        "body_model.is_training = False\n",
        "timing = dict()\n",
        "timing['testing'] = datetime.datetime.now()\n",
        "print('Testing -----------------------------------------------')\n",
        "correct = 0.0\n",
        "for total, (sample) in enumerate(body_test):\n",
        "      labels, marks = sample['label'], sample['marks']\n",
        "      marks = marks.reshape(-1, sequence_length, input_size).to(device)\n",
        "      labels = labels.to(device)\n",
        "      outputs = body_model(marks)\n",
        "      _, predicted = torch.max(outputs.data, 1)\n",
        "      if(predicted.__contains__(labels[0].item())): correct += 1.0\n",
        "\n",
        "total += 1\n",
        "print('Test Accuracy of {} model \\n on the {} test videos: {} %'.format(body_model_path, total, 100 * correct / total)) \n",
        "timing['testing'] = datetime.datetime.now() - timing['testing']\n",
        "print(timing['testing'])"
      ],
      "metadata": {
        "colab": {
          "base_uri": "https://localhost:8080/"
        },
        "id": "3_ZwMrtDkTIV",
        "outputId": "fcdb292d-a112-4da5-931f-dba1e338445e"
      },
      "id": "3_ZwMrtDkTIV",
      "execution_count": 85,
      "outputs": [
        {
          "output_type": "stream",
          "name": "stdout",
          "text": [
            "Testing -----------------------------------------------\n",
            "Test Accuracy of /content/ShouldIDrive_body_tracking_colab1_retesting.pkl model \n",
            " on the 66 test videos: 0.0 %\n",
            "0:00:03.968544\n"
          ]
        }
      ]
    },
    {
      "cell_type": "code",
      "source": [
        "# # Test the Model\n",
        "with torch.no_grad():\n",
        "  eye_model.is_training = False\n",
        "  timing = dict()\n",
        "  timing['testing'] = datetime.datetime.now()\n",
        "  print('Testing -----------------------------------------------')\n",
        "  correct = 0.0\n",
        "  total = 0.0\n",
        "  body_predicted_list = []\n",
        "  body_label_list = []\n",
        "  for i, sample in enumerate(eyedataset):#test_loader\n",
        "      \n",
        "      if(i ==228 ):\n",
        "        labels, marks = sample['label'], sample['marks'] \n",
        "        ogmarks = marks\n",
        "\n",
        "        marks = Variable(marks.view(-1, sequence_length, input_size))\n",
        "        labels = Variable(labels)\n",
        "        # if cuda_enabled:\n",
        "        #     marks = marks.cuda()\n",
        "        print(\"Labels\")\n",
        "        print(labels)\n",
        "        optimizer.zero_grad()\n",
        "        outputs = eye_model(marks)\n",
        "        # print(outputs)\n",
        "        _, predicted = torch.max(outputs.data, 1)\n",
        "        print(\"Predicted labels\")\n",
        "        print(_)\n",
        "        p_tot = 0.0\n",
        "        for p, l in zip(_, labels):\n",
        "          p = p.item()\n",
        "          p_tot += p\n",
        "        accuracy = p_tot/len(labels)\n",
        "        print('Test Accuracy of the Eye Tracking model on the test video: \\n {:.4f} %'.format(100 * accuracy)) \n",
        "        break"
      ],
      "metadata": {
        "colab": {
          "base_uri": "https://localhost:8080/"
        },
        "id": "ySNvyD89xAp9",
        "outputId": "4055c807-33a7-4b54-d15b-f8e018e654ce"
      },
      "id": "ySNvyD89xAp9",
      "execution_count": null,
      "outputs": [
        {
          "output_type": "stream",
          "name": "stdout",
          "text": [
            "Testing -----------------------------------------------\n",
            "Labels\n",
            "tensor([1, 1, 1, 1])\n",
            "Predicted labels\n",
            "tensor([0.4248, 0.1220, 0.1220, 0.1220])\n",
            "Test Accuracy of the Eye Tracking model on the test video: \n",
            " 19.7705 %\n"
          ]
        }
      ]
    },
    {
      "cell_type": "code",
      "source": [
        "eye_model.load_state_dict(torch.load(eye_model_path, map_location=torch.device('cpu')))\n",
        "# print(eye_model.eval())\n",
        "\n",
        "correct = 0.0\n",
        "predicted_list = []\n",
        "label_list = []\n",
        "print('Testing -----------------------------------------------')\n",
        "\n",
        "for total, (sample) in enumerate(eyedataset):\n",
        "        # if(total==100):\n",
        "        #   break\n",
        "        if(total ==228 ):\n",
        "          labels, marks = sample['label'], sample['marks']\n",
        "          marks = marks.reshape(-1, sequence_length, input_size).to(device)\n",
        "          labels = labels.to(device)\n",
        "          print(\"Labels\")\n",
        "          print(labels)\n",
        "          outputs = eye_model(marks)\n",
        "          _, predicted = torch.max(outputs.data, 1)\n",
        "          # print(labels[0][0].item())\n",
        "          print(\"Predicted labels\")\n",
        "          print(predicted)\n",
        "          for p, l in zip(predicted, labels):\n",
        "            predicted_list.append(p.item())\n",
        "            label_list.append(l.item())  \n",
        "\n",
        "          accuracy = accuracy_score(label_list, predicted_list)\n",
        "\n",
        "          print('Test Accuracy of the Eye Tracking model on the test video: \\n {:.4f} %'.format(100 * accuracy)) \n",
        "          break\n",
        "      # break\n",
        "\n",
        "# print('Test Accuracy of {} model \\n on the {} test videos: {} %'.format(eye_model_path, total, 100 * correct / total)) "
      ],
      "metadata": {
        "colab": {
          "base_uri": "https://localhost:8080/",
          "height": 253
        },
        "id": "yyur999kJzt_",
        "outputId": "43f3b894-2ea3-4895-bcb0-ae4aab49d365"
      },
      "id": "yyur999kJzt_",
      "execution_count": null,
      "outputs": [
        {
          "output_type": "error",
          "ename": "NameError",
          "evalue": "ignored",
          "traceback": [
            "\u001b[0;31m---------------------------------------------------------------------------\u001b[0m",
            "\u001b[0;31mNameError\u001b[0m                                 Traceback (most recent call last)",
            "\u001b[0;32m<ipython-input-1-9bf3d1e7811b>\u001b[0m in \u001b[0;36m<module>\u001b[0;34m()\u001b[0m\n\u001b[0;32m----> 1\u001b[0;31m \u001b[0meye_model\u001b[0m\u001b[0;34m.\u001b[0m\u001b[0mload_state_dict\u001b[0m\u001b[0;34m(\u001b[0m\u001b[0mtorch\u001b[0m\u001b[0;34m.\u001b[0m\u001b[0mload\u001b[0m\u001b[0;34m(\u001b[0m\u001b[0meye_model_path\u001b[0m\u001b[0;34m,\u001b[0m \u001b[0mmap_location\u001b[0m\u001b[0;34m=\u001b[0m\u001b[0mtorch\u001b[0m\u001b[0;34m.\u001b[0m\u001b[0mdevice\u001b[0m\u001b[0;34m(\u001b[0m\u001b[0;34m'cpu'\u001b[0m\u001b[0;34m)\u001b[0m\u001b[0;34m)\u001b[0m\u001b[0;34m)\u001b[0m\u001b[0;34m\u001b[0m\u001b[0;34m\u001b[0m\u001b[0m\n\u001b[0m\u001b[1;32m      2\u001b[0m \u001b[0;31m# print(eye_model.eval())\u001b[0m\u001b[0;34m\u001b[0m\u001b[0;34m\u001b[0m\u001b[0;34m\u001b[0m\u001b[0m\n\u001b[1;32m      3\u001b[0m \u001b[0;34m\u001b[0m\u001b[0m\n\u001b[1;32m      4\u001b[0m \u001b[0mcorrect\u001b[0m \u001b[0;34m=\u001b[0m \u001b[0;36m0.0\u001b[0m\u001b[0;34m\u001b[0m\u001b[0;34m\u001b[0m\u001b[0m\n\u001b[1;32m      5\u001b[0m \u001b[0mpredicted_list\u001b[0m \u001b[0;34m=\u001b[0m \u001b[0;34m[\u001b[0m\u001b[0;34m]\u001b[0m\u001b[0;34m\u001b[0m\u001b[0;34m\u001b[0m\u001b[0m\n",
            "\u001b[0;31mNameError\u001b[0m: name 'eye_model' is not defined"
          ]
        }
      ]
    },
    {
      "cell_type": "code",
      "execution_count": null,
      "id": "977accd2-1554-42d1-be09-dbc1c4768f29",
      "metadata": {
        "id": "977accd2-1554-42d1-be09-dbc1c4768f29",
        "outputId": "eb0395f7-5a90-44bf-a62a-40e94ba8d352",
        "colab": {
          "base_uri": "https://localhost:8080/",
          "height": 236
        }
      },
      "outputs": [
        {
          "output_type": "error",
          "ename": "NameError",
          "evalue": "ignored",
          "traceback": [
            "\u001b[0;31m---------------------------------------------------------------------------\u001b[0m",
            "\u001b[0;31mNameError\u001b[0m                                 Traceback (most recent call last)",
            "\u001b[0;32m<ipython-input-1-958fc66b4285>\u001b[0m in \u001b[0;36m<module>\u001b[0;34m()\u001b[0m\n\u001b[1;32m      1\u001b[0m \u001b[0;31m# # Test the Model\u001b[0m\u001b[0;34m\u001b[0m\u001b[0;34m\u001b[0m\u001b[0;34m\u001b[0m\u001b[0m\n\u001b[0;32m----> 2\u001b[0;31m \u001b[0meye_model\u001b[0m\u001b[0;34m.\u001b[0m\u001b[0mis_training\u001b[0m \u001b[0;34m=\u001b[0m \u001b[0;32mFalse\u001b[0m\u001b[0;34m\u001b[0m\u001b[0;34m\u001b[0m\u001b[0m\n\u001b[0m\u001b[1;32m      3\u001b[0m \u001b[0mtiming\u001b[0m \u001b[0;34m=\u001b[0m \u001b[0mdict\u001b[0m\u001b[0;34m(\u001b[0m\u001b[0;34m)\u001b[0m\u001b[0;34m\u001b[0m\u001b[0;34m\u001b[0m\u001b[0m\n\u001b[1;32m      4\u001b[0m \u001b[0mtiming\u001b[0m\u001b[0;34m[\u001b[0m\u001b[0;34m'testing'\u001b[0m\u001b[0;34m]\u001b[0m \u001b[0;34m=\u001b[0m \u001b[0mdatetime\u001b[0m\u001b[0;34m.\u001b[0m\u001b[0mdatetime\u001b[0m\u001b[0;34m.\u001b[0m\u001b[0mnow\u001b[0m\u001b[0;34m(\u001b[0m\u001b[0;34m)\u001b[0m\u001b[0;34m\u001b[0m\u001b[0;34m\u001b[0m\u001b[0m\n\u001b[1;32m      5\u001b[0m \u001b[0mprint\u001b[0m\u001b[0;34m(\u001b[0m\u001b[0;34m'Testing -----------------------------------------------'\u001b[0m\u001b[0;34m)\u001b[0m\u001b[0;34m\u001b[0m\u001b[0;34m\u001b[0m\u001b[0m\n",
            "\u001b[0;31mNameError\u001b[0m: name 'eye_model' is not defined"
          ]
        }
      ],
      "source": [
        "# # Test the Model\n",
        "eye_model.is_training = False\n",
        "timing = dict()\n",
        "timing['testing'] = datetime.datetime.now()\n",
        "print('Testing -----------------------------------------------')\n",
        "correct = 0.0\n",
        "total = 0.0\n",
        "eye_predicted_list = []\n",
        "eye_label_list = []\n",
        "auc = []\n",
        "with torch.no_grad():\n",
        "  for i, sample in enumerate(eye_test):#test_loader\n",
        "      labels, marks = sample['label'], sample['marks'] \n",
        "      marks = marks.reshape(-1, sequence_length, input_size).to(device)\n",
        "      # labels = labels.to(device)\n",
        "      if cuda_enabled:\n",
        "          marks = marks.cuda()\n",
        "\n",
        "      outputs = eye_model(marks)\n",
        "      outputs = torch.sigmoid(outputs)\n",
        "      # print(outputs)\n",
        "      y_pred_tag = torch.round(outputs)\n",
        "      # print(y_pred_tag)\n",
        "      print(labels[0])\n",
        "      print(marks[0])\n",
        "      eye_predicted_list.append(y_pred_tag.cpu().numpy())\n",
        "\n",
        "    # outputs = F.log_softmax(eye_model.linear(outputs), dim=1)\n",
        "    # _, pred = outputs.data.cpu().topk(1, dim=1)\n",
        "    # # _, predicted = torch.max(outputs.data, 1)\n",
        "    # # _, predicted = outputs.data\n",
        "    # predicted = predicted.t()\n",
        "    # y_pred = eye_model(marks)\n",
        "    # # print(y_pred)\n",
        "    # # print(labels)\n",
        "    # accuracy=binary_acc(y_pred,labels).item()\n",
        "    # test_acc = torch.sum(y_pred == labels)\n",
        "    # print(accuracy)\n",
        "    # auc.append(accuracy)\n",
        "\n",
        "    # print(_)\n",
        "    # print(predicted)\n",
        "    # total += labels.size(0)\n",
        "    # for p, l in zip(_, labels):\n",
        "    #     # eye_p = int(np.round(p).item())\n",
        "    #     # eye_l = l[0].item()\n",
        "        \n",
        "    #     eye_predicted_list.append(eye_p)\n",
        "    #     eye_label_list.append(eye_l)\n",
        "    #     if(eye_p == eye_l):\n",
        "            # print(eye_p)\n",
        "            # print(eye_l)\n",
        "            # if(p.item()>0.95):\n",
        "            #     print(p.item())\n",
        "            #     print(eye_l)\n",
        "            # print(sample['marks'][0][:5])\n",
        "            # correct += 1.0\n",
        "    # print(correct)\n",
        "    # auc.append(100 * correct / total)\n",
        "\n",
        "# print('Test Accuracy of the model on the {} test images: {} %'.format(total, 100 * correct / total)) \n",
        "eye_predicted_list = [a.squeeze().tolist() for a in eye_predicted_list]\n",
        "print(eye_predicted_list)\n",
        "# print(classification_report(label_list, eye_predicted_list))\n",
        "# print('Accuracy = %0.4f' % (accuracy_score(label_list, eye_predicted_list)))\n",
        "timing['testing'] = datetime.datetime.now() - timing['testing']"
      ]
    },
    {
      "cell_type": "code",
      "execution_count": null,
      "id": "de13f12b-0345-4ca6-a7cd-1c06095d883d",
      "metadata": {
        "id": "de13f12b-0345-4ca6-a7cd-1c06095d883d"
      },
      "outputs": [],
      "source": [
        "# # Test the Model\n",
        "model.is_training = False\n",
        "timing['testing'] = datetime.datetime.now()\n",
        "print('Testing -----------------------------------------------')\n",
        "correct = 0.0\n",
        "total = 0.0\n",
        "predicted_list = []\n",
        "label_list = []\n",
        "for mfcc, labels in test_loader:#test_loader\n",
        "    mfcc = Variable(mfcc.view(-1, sequence_length, input_size))\n",
        "    if cuda_enabled:\n",
        "        mfcc = mfcc.cuda()\n",
        "\n",
        "    outputs = rnn(mfcc)\n",
        "    _, predicted = torch.max(outputs.data, 1)\n",
        "    total += labels.size(0)\n",
        "    for p, l in zip(predicted, labels):\n",
        "        predicted_list.append(p)\n",
        "        label_list.append(l)\n",
        "        if p == l:\n",
        "            correct += 1.0\n",
        "\n",
        "timing['testing'] = datetime.datetime.now() - timing['testing']"
      ]
    },
    {
      "cell_type": "code",
      "execution_count": null,
      "id": "cef17084-4f99-4756-a8d3-3692c37270c2",
      "metadata": {
        "id": "cef17084-4f99-4756-a8d3-3692c37270c2",
        "outputId": "a6e840a5-5d94-4074-b59c-328fc584bb7c"
      },
      "outputs": [
        {
          "name": "stdout",
          "output_type": "stream",
          "text": [
            "Test Accuracy of the model on the 10000 test images: 97.39 %\n"
          ]
        }
      ],
      "source": [
        "# Test the model\n",
        "# with torch.no_grad():\n",
        "#     model.is_training = False\n",
        "#     correct = 0\n",
        "#     total = 0\n",
        "#     for images, labels in test_loader:\n",
        "#         images = images.reshape(-1, sequence_length, input_size).to(device)\n",
        "#         labels = labels.to(device)\n",
        "#         outputs = model(images)\n",
        "#         _, predicted = torch.max(outputs.data, 1)\n",
        "#         total += labels.size(0)\n",
        "#         correct += (predicted == labels).sum().item()\n",
        "\n",
        "#     print('Test Accuracy of the model on the 10000 test images: {} %'.format(100 * correct / total)) "
      ]
    }
  ],
  "metadata": {
    "kernelspec": {
      "display_name": "Python 3 (ipykernel)",
      "language": "python",
      "name": "python3"
    },
    "language_info": {
      "codemirror_mode": {
        "name": "ipython",
        "version": 3
      },
      "file_extension": ".py",
      "mimetype": "text/x-python",
      "name": "python",
      "nbconvert_exporter": "python",
      "pygments_lexer": "ipython3",
      "version": "3.9.7"
    },
    "colab": {
      "name": "LSTMEyeandBody.ipynb",
      "provenance": [],
      "collapsed_sections": [],
      "toc_visible": true
    },
    "accelerator": "GPU"
  },
  "nbformat": 4,
  "nbformat_minor": 5
}