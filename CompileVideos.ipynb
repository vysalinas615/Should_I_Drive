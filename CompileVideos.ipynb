{
 "cells": [
  {
   "cell_type": "code",
   "execution_count": 1,
   "id": "c3c6bf7b-5157-4d7a-bf92-79b95141f17c",
   "metadata": {},
   "outputs": [],
   "source": [
    "from pytube import YouTube\n",
    "from moviepy.video.io.ffmpeg_tools import ffmpeg_extract_subclip\n",
    "# from moviepy.editor import *\n",
    "import pandas as pd"
   ]
  },
  {
   "cell_type": "code",
   "execution_count": 2,
   "id": "11d9a1cb-1b34-4d0f-8df2-7afd2aff5077",
   "metadata": {},
   "outputs": [],
   "source": [
    "data = pd.read_csv('DriverClipsLabel.csv', sep=',')"
   ]
  },
  {
   "cell_type": "code",
   "execution_count": 3,
   "id": "cf258239-64df-4500-9d13-b1f0a4b40a1c",
   "metadata": {},
   "outputs": [
    {
     "data": {
      "text/html": [
       "<div>\n",
       "<style scoped>\n",
       "    .dataframe tbody tr th:only-of-type {\n",
       "        vertical-align: middle;\n",
       "    }\n",
       "\n",
       "    .dataframe tbody tr th {\n",
       "        vertical-align: top;\n",
       "    }\n",
       "\n",
       "    .dataframe thead th {\n",
       "        text-align: right;\n",
       "    }\n",
       "</style>\n",
       "<table border=\"1\" class=\"dataframe\">\n",
       "  <thead>\n",
       "    <tr style=\"text-align: right;\">\n",
       "      <th></th>\n",
       "      <th>Full Video</th>\n",
       "      <th>Videoclip</th>\n",
       "      <th>Label</th>\n",
       "    </tr>\n",
       "  </thead>\n",
       "  <tbody>\n",
       "    <tr>\n",
       "      <th>0</th>\n",
       "      <td>https://youtu.be/d-t-pVe-LCs</td>\n",
       "      <td>[8, 14]</td>\n",
       "      <td>e3</td>\n",
       "    </tr>\n",
       "    <tr>\n",
       "      <th>1</th>\n",
       "      <td>https://youtu.be/d-t-pVe-LCs</td>\n",
       "      <td>[31, 37]</td>\n",
       "      <td>e3</td>\n",
       "    </tr>\n",
       "    <tr>\n",
       "      <th>2</th>\n",
       "      <td>https://youtu.be/r3MlUA0qkiQ</td>\n",
       "      <td>[33, 37]</td>\n",
       "      <td>e3</td>\n",
       "    </tr>\n",
       "    <tr>\n",
       "      <th>3</th>\n",
       "      <td>https://youtu.be/r3MlUA0qkiQ</td>\n",
       "      <td>[41,46]</td>\n",
       "      <td>e1</td>\n",
       "    </tr>\n",
       "    <tr>\n",
       "      <th>4</th>\n",
       "      <td>https://youtu.be/r3MlUA0qkiQ</td>\n",
       "      <td>[56,58]</td>\n",
       "      <td>e2</td>\n",
       "    </tr>\n",
       "    <tr>\n",
       "      <th>...</th>\n",
       "      <td>...</td>\n",
       "      <td>...</td>\n",
       "      <td>...</td>\n",
       "    </tr>\n",
       "    <tr>\n",
       "      <th>199</th>\n",
       "      <td>https://www.youtube.com/watch?v=2e9NDDxVzD8</td>\n",
       "      <td>[302,307]</td>\n",
       "      <td>e0</td>\n",
       "    </tr>\n",
       "    <tr>\n",
       "      <th>200</th>\n",
       "      <td>https://www.youtube.com/watch?v=2e9NDDxVzD8</td>\n",
       "      <td>[307,312]</td>\n",
       "      <td>e0</td>\n",
       "    </tr>\n",
       "    <tr>\n",
       "      <th>201</th>\n",
       "      <td>https://www.youtube.com/watch?v=2e9NDDxVzD8</td>\n",
       "      <td>[312,317]</td>\n",
       "      <td>e0</td>\n",
       "    </tr>\n",
       "    <tr>\n",
       "      <th>202</th>\n",
       "      <td>https://www.youtube.com/watch?v=2e9NDDxVzD8</td>\n",
       "      <td>[1023,1028]</td>\n",
       "      <td>e2</td>\n",
       "    </tr>\n",
       "    <tr>\n",
       "      <th>203</th>\n",
       "      <td>https://www.youtube.com/watch?v=2e9NDDxVzD8</td>\n",
       "      <td>[1028,1033]</td>\n",
       "      <td>e2</td>\n",
       "    </tr>\n",
       "  </tbody>\n",
       "</table>\n",
       "<p>204 rows × 3 columns</p>\n",
       "</div>"
      ],
      "text/plain": [
       "                                      Full Video    Videoclip Label\n",
       "0                   https://youtu.be/d-t-pVe-LCs      [8, 14]    e3\n",
       "1                   https://youtu.be/d-t-pVe-LCs     [31, 37]    e3\n",
       "2                   https://youtu.be/r3MlUA0qkiQ     [33, 37]    e3\n",
       "3                   https://youtu.be/r3MlUA0qkiQ     [41,46]     e1\n",
       "4                   https://youtu.be/r3MlUA0qkiQ     [56,58]     e2\n",
       "..                                           ...          ...   ...\n",
       "199  https://www.youtube.com/watch?v=2e9NDDxVzD8    [302,307]    e0\n",
       "200  https://www.youtube.com/watch?v=2e9NDDxVzD8    [307,312]    e0\n",
       "201  https://www.youtube.com/watch?v=2e9NDDxVzD8    [312,317]    e0\n",
       "202  https://www.youtube.com/watch?v=2e9NDDxVzD8  [1023,1028]    e2\n",
       "203  https://www.youtube.com/watch?v=2e9NDDxVzD8  [1028,1033]    e2\n",
       "\n",
       "[204 rows x 3 columns]"
      ]
     },
     "execution_count": 3,
     "metadata": {},
     "output_type": "execute_result"
    }
   ],
   "source": [
    "data"
   ]
  },
  {
   "cell_type": "code",
   "execution_count": 13,
   "id": "3a97b5e9-24e3-4766-8636-9db086f43d01",
   "metadata": {},
   "outputs": [
    {
     "data": {
      "text/plain": [
       "204"
      ]
     },
     "execution_count": 13,
     "metadata": {},
     "output_type": "execute_result"
    }
   ],
   "source": [
    "len(data)"
   ]
  },
  {
   "cell_type": "code",
   "execution_count": 17,
   "id": "823e95ab-03d5-4978-aefa-390fdbc926ce",
   "metadata": {},
   "outputs": [
    {
     "name": "stdout",
     "output_type": "stream",
     "text": [
      "Moviepy - Running:\n",
      ">>> \"+ \" \".join(cmd)\n",
      "Moviepy - Command successful\n",
      "Moviepy - Running:\n",
      ">>> \"+ \" \".join(cmd)\n",
      "Moviepy - Command successful\n",
      "Moviepy - Running:\n",
      ">>> \"+ \" \".join(cmd)\n",
      "Moviepy - Command successful\n",
      "Moviepy - Running:\n",
      ">>> \"+ \" \".join(cmd)\n",
      "Moviepy - Command successful\n",
      "Moviepy - Running:\n",
      ">>> \"+ \" \".join(cmd)\n",
      "Moviepy - Command successful\n",
      "Moviepy - Running:\n",
      ">>> \"+ \" \".join(cmd)\n",
      "Moviepy - Command successful\n",
      "Moviepy - Running:\n",
      ">>> \"+ \" \".join(cmd)\n",
      "Moviepy - Command successful\n",
      "Moviepy - Running:\n",
      ">>> \"+ \" \".join(cmd)\n",
      "Moviepy - Command successful\n",
      "Moviepy - Running:\n",
      ">>> \"+ \" \".join(cmd)\n",
      "Moviepy - Command successful\n"
     ]
    }
   ],
   "source": [
    "for i in range(195,len(data)):\n",
    "    link = data['Full Video'][i]\n",
    "    name = str(i)+'_'+data['Label'][i]\n",
    "    limits = data['Videoclip'][i].split(\"[\")[1].split(\"]\")[0].split(\",\")\n",
    "    start = int(limits[0].strip())\n",
    "    end = int(limits[1].strip())+3\n",
    "    yt = YouTube(link)\n",
    "    yt.title = name+\"full\"\n",
    "    yt.streams.filter(progressive=True, file_extension='mp4').order_by('resolution').desc().first().download()\n",
    "    ffmpeg_extract_subclip(yt.title+\".mp4\", start, end, targetname=name+\".mp4\")"
   ]
  },
  {
   "cell_type": "code",
   "execution_count": null,
   "id": "6406cd9d-5a36-4042-8473-20bab65fbea4",
   "metadata": {},
   "outputs": [],
   "source": [
    "# cliplink = videolink.partition(\"https://youtu.be/\")[2]\n",
    "# if(cliplink==''):\n",
    "#     cliplink = videolink.partition(\"https://www.youtube.com/watch?v=\")[2]\n",
    "# cliplink = \"https://www.youtube.com/embed/\"+cliplink+\"?start=\"+str(start)+\"&end=\"+str(end)\n",
    "\n",
    "\n",
    "# ffmpeg_resize(inputfile, outputfile, size)"
   ]
  }
 ],
 "metadata": {
  "kernelspec": {
   "display_name": "Python 3 (ipykernel)",
   "language": "python",
   "name": "python3"
  },
  "language_info": {
   "codemirror_mode": {
    "name": "ipython",
    "version": 3
   },
   "file_extension": ".py",
   "mimetype": "text/x-python",
   "name": "python",
   "nbconvert_exporter": "python",
   "pygments_lexer": "ipython3",
   "version": "3.9.7"
  }
 },
 "nbformat": 4,
 "nbformat_minor": 5
}
